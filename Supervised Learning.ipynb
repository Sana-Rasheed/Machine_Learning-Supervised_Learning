{
 "cells": [
  {
   "cell_type": "markdown",
   "metadata": {},
   "source": [
    "# Course - Supervised Learning "
   ]
  },
  {
   "cell_type": "markdown",
   "metadata": {},
   "source": [
    "##### NOTE: \n",
    "1. Your code MUST execute without any errors. \n",
    "2. You can add more lines in your code as required."
   ]
  },
  {
   "cell_type": "markdown",
   "metadata": {},
   "source": [
    "## Section 1: Basic Statistical Concepts"
   ]
  },
  {
   "cell_type": "markdown",
   "metadata": {},
   "source": [
    "### Question 1 \n",
    "**The dataset is loaded for you. Perform the following tasks:**  \n",
    "1. Compute basic statistical measures for each of the variables from the freeny dataset.  \n",
    "2. Construct a correlation matrix for all the variables in the freeny dataset.  \n",
    "3. Create a new variable price.income.ratio constructed as a ratio of price.index and income.level. Print its summary statistics.  "
   ]
  },
  {
   "cell_type": "code",
   "execution_count": 1,
   "metadata": {},
   "outputs": [],
   "source": [
    "library(datasets)"
   ]
  },
  {
   "cell_type": "code",
   "execution_count": 2,
   "metadata": {},
   "outputs": [
    {
     "data": {
      "text/html": [
       "<table>\n",
       "<thead><tr><th></th><th scope=col>y</th><th scope=col>lag.quarterly.revenue</th><th scope=col>price.index</th><th scope=col>income.level</th><th scope=col>market.potential</th></tr></thead>\n",
       "<tbody>\n",
       "\t<tr><th scope=row>1962.25</th><td>8.79236</td><td>8.79636</td><td>4.70997</td><td>5.82110</td><td>12.9699</td></tr>\n",
       "\t<tr><th scope=row>1962.5</th><td>8.79137</td><td>8.79236</td><td>4.70217</td><td>5.82558</td><td>12.9733</td></tr>\n",
       "\t<tr><th scope=row>1962.75</th><td>8.81486</td><td>8.79137</td><td>4.68944</td><td>5.83112</td><td>12.9774</td></tr>\n",
       "\t<tr><th scope=row>1963</th><td>8.81301</td><td>8.81486</td><td>4.68558</td><td>5.84046</td><td>12.9806</td></tr>\n",
       "\t<tr><th scope=row>1963.25</th><td>8.90751</td><td>8.81301</td><td>4.64019</td><td>5.85036</td><td>12.9831</td></tr>\n",
       "\t<tr><th scope=row>1963.5</th><td>8.93673</td><td>8.90751</td><td>4.62553</td><td>5.86464</td><td>12.9854</td></tr>\n",
       "</tbody>\n",
       "</table>\n"
      ],
      "text/latex": [
       "\\begin{tabular}{r|lllll}\n",
       "  & y & lag.quarterly.revenue & price.index & income.level & market.potential\\\\\n",
       "\\hline\n",
       "\t1962.25 & 8.79236 & 8.79636 & 4.70997 & 5.82110 & 12.9699\\\\\n",
       "\t1962.5 & 8.79137 & 8.79236 & 4.70217 & 5.82558 & 12.9733\\\\\n",
       "\t1962.75 & 8.81486 & 8.79137 & 4.68944 & 5.83112 & 12.9774\\\\\n",
       "\t1963 & 8.81301 & 8.81486 & 4.68558 & 5.84046 & 12.9806\\\\\n",
       "\t1963.25 & 8.90751 & 8.81301 & 4.64019 & 5.85036 & 12.9831\\\\\n",
       "\t1963.5 & 8.93673 & 8.90751 & 4.62553 & 5.86464 & 12.9854\\\\\n",
       "\\end{tabular}\n"
      ],
      "text/markdown": [
       "\n",
       "| <!--/--> | y | lag.quarterly.revenue | price.index | income.level | market.potential |\n",
       "|---|---|---|---|---|---|\n",
       "| 1962.25 | 8.79236 | 8.79636 | 4.70997 | 5.82110 | 12.9699 |\n",
       "| 1962.5 | 8.79137 | 8.79236 | 4.70217 | 5.82558 | 12.9733 |\n",
       "| 1962.75 | 8.81486 | 8.79137 | 4.68944 | 5.83112 | 12.9774 |\n",
       "| 1963 | 8.81301 | 8.81486 | 4.68558 | 5.84046 | 12.9806 |\n",
       "| 1963.25 | 8.90751 | 8.81301 | 4.64019 | 5.85036 | 12.9831 |\n",
       "| 1963.5 | 8.93673 | 8.90751 | 4.62553 | 5.86464 | 12.9854 |\n",
       "\n"
      ],
      "text/plain": [
       "        y       lag.quarterly.revenue price.index income.level market.potential\n",
       "1962.25 8.79236 8.79636               4.70997     5.82110      12.9699         \n",
       "1962.5  8.79137 8.79236               4.70217     5.82558      12.9733         \n",
       "1962.75 8.81486 8.79137               4.68944     5.83112      12.9774         \n",
       "1963    8.81301 8.81486               4.68558     5.84046      12.9806         \n",
       "1963.25 8.90751 8.81301               4.64019     5.85036      12.9831         \n",
       "1963.5  8.93673 8.90751               4.62553     5.86464      12.9854         "
      ]
     },
     "metadata": {},
     "output_type": "display_data"
    }
   ],
   "source": [
    "head(freeny)"
   ]
  },
  {
   "cell_type": "code",
   "execution_count": null,
   "metadata": {},
   "outputs": [],
   "source": []
  },
  {
   "cell_type": "code",
   "execution_count": null,
   "metadata": {},
   "outputs": [],
   "source": []
  },
  {
   "cell_type": "code",
   "execution_count": null,
   "metadata": {},
   "outputs": [],
   "source": []
  },
  {
   "cell_type": "markdown",
   "metadata": {},
   "source": [
    "### Good Job! You are done with the section!"
   ]
  },
  {
   "cell_type": "markdown",
   "metadata": {},
   "source": [
    "## Section 2: Machine Learning: Regression Analysis"
   ]
  },
  {
   "cell_type": "markdown",
   "metadata": {},
   "source": [
    "### Question 1\n",
    "**Based on the observations acquired from the above exercise:**  \n",
    "1. Construct a linear regression model using y as dependent variable and top 2 variables with the highest correlation with y as dependent variable.  \n",
    "2. Calculate the r-squared value for the constructed model.  \n",
    "3. Use half the dataset for training and the remaining for testing.  \n",
    "4. Generate in-sample and out-sample predictions and compute variance of residuals [hint: residual= y_predicted - y_observed]  \n",
    "5. Plot the actual and predicted results for y variable.  "
   ]
  },
  {
   "cell_type": "code",
   "execution_count": null,
   "metadata": {},
   "outputs": [],
   "source": []
  },
  {
   "cell_type": "code",
   "execution_count": null,
   "metadata": {},
   "outputs": [],
   "source": []
  },
  {
   "cell_type": "code",
   "execution_count": null,
   "metadata": {},
   "outputs": [],
   "source": []
  },
  {
   "cell_type": "markdown",
   "metadata": {},
   "source": [
    "### Good Job! You are done with the section!"
   ]
  },
  {
   "cell_type": "markdown",
   "metadata": {},
   "source": [
    "## Section 3: Machine Learning: Logistic Regression"
   ]
  },
  {
   "cell_type": "markdown",
   "metadata": {},
   "source": [
    "## Question 1  \n",
    "**Construct a logistic regression model using the Smarket dataset:**  \n",
    "1. Your task is to predict the direction [Up: 1, Down:0].  \n",
    "2. Use a combination of variables that produces the lowest residual variance.  \n",
    "3. Plot the predicted vs. actual values.  \n",
    "4. Construct variable importance plot for all the variables.  "
   ]
  },
  {
   "cell_type": "code",
   "execution_count": 8,
   "metadata": {},
   "outputs": [
    {
     "data": {
      "text/html": [
       "<table>\n",
       "<thead><tr><th scope=col>Year</th><th scope=col>Lag1</th><th scope=col>Lag2</th><th scope=col>Lag3</th><th scope=col>Lag4</th><th scope=col>Lag5</th><th scope=col>Volume</th><th scope=col>Today</th><th scope=col>Direction</th></tr></thead>\n",
       "<tbody>\n",
       "\t<tr><td>2001  </td><td> 0.381</td><td>-0.192</td><td>-2.624</td><td>-1.055</td><td> 5.010</td><td>1.1913</td><td> 0.959</td><td>Up    </td></tr>\n",
       "\t<tr><td>2001  </td><td> 0.959</td><td> 0.381</td><td>-0.192</td><td>-2.624</td><td>-1.055</td><td>1.2965</td><td> 1.032</td><td>Up    </td></tr>\n",
       "\t<tr><td>2001  </td><td> 1.032</td><td> 0.959</td><td> 0.381</td><td>-0.192</td><td>-2.624</td><td>1.4112</td><td>-0.623</td><td>Down  </td></tr>\n",
       "\t<tr><td>2001  </td><td>-0.623</td><td> 1.032</td><td> 0.959</td><td> 0.381</td><td>-0.192</td><td>1.2760</td><td> 0.614</td><td>Up    </td></tr>\n",
       "\t<tr><td>2001  </td><td> 0.614</td><td>-0.623</td><td> 1.032</td><td> 0.959</td><td> 0.381</td><td>1.2057</td><td> 0.213</td><td>Up    </td></tr>\n",
       "\t<tr><td>2001  </td><td> 0.213</td><td> 0.614</td><td>-0.623</td><td> 1.032</td><td> 0.959</td><td>1.3491</td><td> 1.392</td><td>Up    </td></tr>\n",
       "</tbody>\n",
       "</table>\n"
      ],
      "text/latex": [
       "\\begin{tabular}{r|lllllllll}\n",
       " Year & Lag1 & Lag2 & Lag3 & Lag4 & Lag5 & Volume & Today & Direction\\\\\n",
       "\\hline\n",
       "\t 2001   &  0.381 & -0.192 & -2.624 & -1.055 &  5.010 & 1.1913 &  0.959 & Up    \\\\\n",
       "\t 2001   &  0.959 &  0.381 & -0.192 & -2.624 & -1.055 & 1.2965 &  1.032 & Up    \\\\\n",
       "\t 2001   &  1.032 &  0.959 &  0.381 & -0.192 & -2.624 & 1.4112 & -0.623 & Down  \\\\\n",
       "\t 2001   & -0.623 &  1.032 &  0.959 &  0.381 & -0.192 & 1.2760 &  0.614 & Up    \\\\\n",
       "\t 2001   &  0.614 & -0.623 &  1.032 &  0.959 &  0.381 & 1.2057 &  0.213 & Up    \\\\\n",
       "\t 2001   &  0.213 &  0.614 & -0.623 &  1.032 &  0.959 & 1.3491 &  1.392 & Up    \\\\\n",
       "\\end{tabular}\n"
      ],
      "text/markdown": [
       "\n",
       "| Year | Lag1 | Lag2 | Lag3 | Lag4 | Lag5 | Volume | Today | Direction |\n",
       "|---|---|---|---|---|---|---|---|---|\n",
       "| 2001   |  0.381 | -0.192 | -2.624 | -1.055 |  5.010 | 1.1913 |  0.959 | Up     |\n",
       "| 2001   |  0.959 |  0.381 | -0.192 | -2.624 | -1.055 | 1.2965 |  1.032 | Up     |\n",
       "| 2001   |  1.032 |  0.959 |  0.381 | -0.192 | -2.624 | 1.4112 | -0.623 | Down   |\n",
       "| 2001   | -0.623 |  1.032 |  0.959 |  0.381 | -0.192 | 1.2760 |  0.614 | Up     |\n",
       "| 2001   |  0.614 | -0.623 |  1.032 |  0.959 |  0.381 | 1.2057 |  0.213 | Up     |\n",
       "| 2001   |  0.213 |  0.614 | -0.623 |  1.032 |  0.959 | 1.3491 |  1.392 | Up     |\n",
       "\n"
      ],
      "text/plain": [
       "  Year Lag1   Lag2   Lag3   Lag4   Lag5   Volume Today  Direction\n",
       "1 2001  0.381 -0.192 -2.624 -1.055  5.010 1.1913  0.959 Up       \n",
       "2 2001  0.959  0.381 -0.192 -2.624 -1.055 1.2965  1.032 Up       \n",
       "3 2001  1.032  0.959  0.381 -0.192 -2.624 1.4112 -0.623 Down     \n",
       "4 2001 -0.623  1.032  0.959  0.381 -0.192 1.2760  0.614 Up       \n",
       "5 2001  0.614 -0.623  1.032  0.959  0.381 1.2057  0.213 Up       \n",
       "6 2001  0.213  0.614 -0.623  1.032  0.959 1.3491  1.392 Up       "
      ]
     },
     "metadata": {},
     "output_type": "display_data"
    }
   ],
   "source": [
    "# install.packages('ISLR')\n",
    "require('ISLR')\n",
    "head(Smarket)"
   ]
  },
  {
   "cell_type": "code",
   "execution_count": null,
   "metadata": {},
   "outputs": [],
   "source": []
  },
  {
   "cell_type": "code",
   "execution_count": null,
   "metadata": {},
   "outputs": [],
   "source": []
  },
  {
   "cell_type": "code",
   "execution_count": null,
   "metadata": {},
   "outputs": [],
   "source": []
  },
  {
   "cell_type": "code",
   "execution_count": null,
   "metadata": {},
   "outputs": [],
   "source": []
  },
  {
   "cell_type": "code",
   "execution_count": null,
   "metadata": {},
   "outputs": [],
   "source": []
  },
  {
   "cell_type": "markdown",
   "metadata": {},
   "source": [
    "### Good Job! You are done with the section!"
   ]
  },
  {
   "cell_type": "markdown",
   "metadata": {},
   "source": [
    "## Section 4: Machine Learning: Decision Trees and Random Forests"
   ]
  },
  {
   "cell_type": "markdown",
   "metadata": {},
   "source": [
    "## Question 1  \n",
    "**Construct a decision tree for the following dataset:**  \n",
    "1. Your task is to predict whether the sales will be High or Low.  \n",
    "2. You need to transform the Sale variable into binary variable: For sales less than 7.5, assign a value of Low and High otherwise. You will also need to transform ShelveLoc, Urban and US variables into binary variables.    \n",
    "3. Generate a decision tree and plot the diagram for the tree and plot predicted vs. actual results.  \n",
    "4. Attempt a random forest regression on the same dataset. Which model produces better results?  "
   ]
  },
  {
   "cell_type": "code",
   "execution_count": 14,
   "metadata": {},
   "outputs": [
    {
     "data": {
      "text/html": [
       "<table>\n",
       "<thead><tr><th scope=col>Sales</th><th scope=col>CompPrice</th><th scope=col>Income</th><th scope=col>Advertising</th><th scope=col>Population</th><th scope=col>Price</th><th scope=col>ShelveLoc</th><th scope=col>Age</th><th scope=col>Education</th><th scope=col>Urban</th><th scope=col>US</th></tr></thead>\n",
       "<tbody>\n",
       "\t<tr><td> 9.50 </td><td>138   </td><td> 73   </td><td>11    </td><td>276   </td><td>120   </td><td>Bad   </td><td>42    </td><td>17    </td><td>Yes   </td><td>Yes   </td></tr>\n",
       "\t<tr><td>11.22 </td><td>111   </td><td> 48   </td><td>16    </td><td>260   </td><td> 83   </td><td>Good  </td><td>65    </td><td>10    </td><td>Yes   </td><td>Yes   </td></tr>\n",
       "\t<tr><td>10.06 </td><td>113   </td><td> 35   </td><td>10    </td><td>269   </td><td> 80   </td><td>Medium</td><td>59    </td><td>12    </td><td>Yes   </td><td>Yes   </td></tr>\n",
       "\t<tr><td> 7.40 </td><td>117   </td><td>100   </td><td> 4    </td><td>466   </td><td> 97   </td><td>Medium</td><td>55    </td><td>14    </td><td>Yes   </td><td>Yes   </td></tr>\n",
       "\t<tr><td> 4.15 </td><td>141   </td><td> 64   </td><td> 3    </td><td>340   </td><td>128   </td><td>Bad   </td><td>38    </td><td>13    </td><td>Yes   </td><td>No    </td></tr>\n",
       "\t<tr><td>10.81 </td><td>124   </td><td>113   </td><td>13    </td><td>501   </td><td> 72   </td><td>Bad   </td><td>78    </td><td>16    </td><td>No    </td><td>Yes   </td></tr>\n",
       "</tbody>\n",
       "</table>\n"
      ],
      "text/latex": [
       "\\begin{tabular}{r|lllllllllll}\n",
       " Sales & CompPrice & Income & Advertising & Population & Price & ShelveLoc & Age & Education & Urban & US\\\\\n",
       "\\hline\n",
       "\t  9.50  & 138    &  73    & 11     & 276    & 120    & Bad    & 42     & 17     & Yes    & Yes   \\\\\n",
       "\t 11.22  & 111    &  48    & 16     & 260    &  83    & Good   & 65     & 10     & Yes    & Yes   \\\\\n",
       "\t 10.06  & 113    &  35    & 10     & 269    &  80    & Medium & 59     & 12     & Yes    & Yes   \\\\\n",
       "\t  7.40  & 117    & 100    &  4     & 466    &  97    & Medium & 55     & 14     & Yes    & Yes   \\\\\n",
       "\t  4.15  & 141    &  64    &  3     & 340    & 128    & Bad    & 38     & 13     & Yes    & No    \\\\\n",
       "\t 10.81  & 124    & 113    & 13     & 501    &  72    & Bad    & 78     & 16     & No     & Yes   \\\\\n",
       "\\end{tabular}\n"
      ],
      "text/markdown": [
       "\n",
       "| Sales | CompPrice | Income | Advertising | Population | Price | ShelveLoc | Age | Education | Urban | US |\n",
       "|---|---|---|---|---|---|---|---|---|---|---|\n",
       "|  9.50  | 138    |  73    | 11     | 276    | 120    | Bad    | 42     | 17     | Yes    | Yes    |\n",
       "| 11.22  | 111    |  48    | 16     | 260    |  83    | Good   | 65     | 10     | Yes    | Yes    |\n",
       "| 10.06  | 113    |  35    | 10     | 269    |  80    | Medium | 59     | 12     | Yes    | Yes    |\n",
       "|  7.40  | 117    | 100    |  4     | 466    |  97    | Medium | 55     | 14     | Yes    | Yes    |\n",
       "|  4.15  | 141    |  64    |  3     | 340    | 128    | Bad    | 38     | 13     | Yes    | No     |\n",
       "| 10.81  | 124    | 113    | 13     | 501    |  72    | Bad    | 78     | 16     | No     | Yes    |\n",
       "\n"
      ],
      "text/plain": [
       "  Sales CompPrice Income Advertising Population Price ShelveLoc Age Education\n",
       "1  9.50 138        73    11          276        120   Bad       42  17       \n",
       "2 11.22 111        48    16          260         83   Good      65  10       \n",
       "3 10.06 113        35    10          269         80   Medium    59  12       \n",
       "4  7.40 117       100     4          466         97   Medium    55  14       \n",
       "5  4.15 141        64     3          340        128   Bad       38  13       \n",
       "6 10.81 124       113    13          501         72   Bad       78  16       \n",
       "  Urban US \n",
       "1 Yes   Yes\n",
       "2 Yes   Yes\n",
       "3 Yes   Yes\n",
       "4 Yes   Yes\n",
       "5 Yes   No \n",
       "6 No    Yes"
      ]
     },
     "metadata": {},
     "output_type": "display_data"
    }
   ],
   "source": [
    "head(Carseats)"
   ]
  },
  {
   "cell_type": "code",
   "execution_count": null,
   "metadata": {},
   "outputs": [],
   "source": []
  },
  {
   "cell_type": "code",
   "execution_count": null,
   "metadata": {},
   "outputs": [],
   "source": []
  },
  {
   "cell_type": "code",
   "execution_count": null,
   "metadata": {},
   "outputs": [],
   "source": []
  },
  {
   "cell_type": "markdown",
   "metadata": {},
   "source": [
    "### Good Job! You are done with the section!"
   ]
  },
  {
   "cell_type": "markdown",
   "metadata": {},
   "source": [
    "## Section 5: Neural Networks"
   ]
  },
  {
   "cell_type": "markdown",
   "metadata": {},
   "source": [
    "## Question 1  \n",
    "**Construct a neural network for the same dataset:**  \n",
    "1. Your task is to predict whether the sales will be High or Low.  \n",
    "2. Perform necessary data transformations as required.      \n",
    "3. Generate neural network with 3 layers and 2,3,4 nodes respectively.    \n",
    "4. Plot the nn."
   ]
  },
  {
   "cell_type": "code",
   "execution_count": 16,
   "metadata": {},
   "outputs": [],
   "source": [
    "# install.packages('neuralnets')"
   ]
  },
  {
   "cell_type": "code",
   "execution_count": null,
   "metadata": {},
   "outputs": [],
   "source": []
  },
  {
   "cell_type": "code",
   "execution_count": null,
   "metadata": {},
   "outputs": [],
   "source": []
  },
  {
   "cell_type": "code",
   "execution_count": null,
   "metadata": {},
   "outputs": [],
   "source": []
  },
  {
   "cell_type": "markdown",
   "metadata": {},
   "source": [
    "### Good Job! You are done with the section!"
   ]
  },
  {
   "cell_type": "markdown",
   "metadata": {},
   "source": [
    "## Section 6: Performance Evaluation"
   ]
  },
  {
   "cell_type": "markdown",
   "metadata": {},
   "source": [
    "## Question 1  \n",
    "**For the above decision tree, logistic regression and neural network models:**  \n",
    "1. Construct a confusion matrix.  \n",
    "2. Plot out the ROC and AUC cruves.   \n",
    "3. For the datasets of Carseats, which model produced the highest accuracy with lowest variance?  "
   ]
  },
  {
   "cell_type": "code",
   "execution_count": null,
   "metadata": {},
   "outputs": [],
   "source": []
  },
  {
   "cell_type": "code",
   "execution_count": null,
   "metadata": {},
   "outputs": [],
   "source": []
  },
  {
   "cell_type": "code",
   "execution_count": null,
   "metadata": {},
   "outputs": [],
   "source": []
  },
  {
   "cell_type": "code",
   "execution_count": null,
   "metadata": {},
   "outputs": [],
   "source": []
  },
  {
   "cell_type": "code",
   "execution_count": null,
   "metadata": {},
   "outputs": [],
   "source": []
  },
  {
   "cell_type": "markdown",
   "metadata": {},
   "source": [
    "## Good Job! You are done with the course!"
   ]
  }
 ],
 "metadata": {
  "kernelspec": {
   "display_name": "R",
   "language": "R",
   "name": "ir"
  },
  "language_info": {
   "codemirror_mode": "r",
   "file_extension": ".r",
   "mimetype": "text/x-r-source",
   "name": "R",
   "pygments_lexer": "r",
   "version": "3.6.1"
  }
 },
 "nbformat": 4,
 "nbformat_minor": 4
}
